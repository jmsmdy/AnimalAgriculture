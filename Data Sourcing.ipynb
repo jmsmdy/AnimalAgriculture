{
 "cells": [
  {
   "cell_type": "code",
   "execution_count": 1,
   "metadata": {},
   "outputs": [],
   "source": [
    "from scraping import gunzip, download\n",
    "import os"
   ]
  },
  {
   "cell_type": "code",
   "execution_count": 2,
   "metadata": {},
   "outputs": [
    {
     "data": {
      "application/vnd.jupyter.widget-view+json": {
       "model_id": "35d1c6dbc84442b1876c5d8b405bda97",
       "version_major": 2,
       "version_minor": 0
      },
      "text/plain": [
       "HBox(children=(IntProgress(value=0, description='Downloading Agriculture Data/2017_cdqt_data.txt.gz', max=70, …"
      ]
     },
     "metadata": {},
     "output_type": "display_data"
    },
    {
     "name": "stdout",
     "output_type": "stream",
     "text": [
      "\n"
     ]
    },
    {
     "data": {
      "application/vnd.jupyter.widget-view+json": {
       "model_id": "7518b2d9dd4347d38d2db20c7fb19fc0",
       "version_major": 2,
       "version_minor": 0
      },
      "text/plain": [
       "HBox(children=(IntProgress(value=0, description='Unzipping Agriculture Data/2017_cdqt_data.txt.gz', max=1017, …"
      ]
     },
     "metadata": {},
     "output_type": "display_data"
    },
    {
     "name": "stdout",
     "output_type": "stream",
     "text": [
      "\n"
     ]
    }
   ],
   "source": [
    "ag_data_dir = 'Agriculture Data'\n",
    "usda_census_url = 'https://www.nass.usda.gov/Publications/AgCensus/2017/Online_Resources/Census_Data_Query_Tool/2017_cdqt_data.txt.gz'\n",
    "\n",
    "if not os.path.exists(ag_data_dir):\n",
    "    os.mkdir(ag_data_dir)\n",
    "\n",
    "download(usda_census_url, os.path.join(ag_data_dir, '2017_cdqt_data.txt.gz'))\n",
    "gunzip(os.path.join(ag_data_dir, '2017_cdqt_data.txt.gz'),\n",
    "       os.path.join(ag_data_dir, '2017_cdqt_data.txt'))"
   ]
  }
 ],
 "metadata": {
  "kernelspec": {
   "display_name": "Python 3",
   "language": "python",
   "name": "python3"
  },
  "language_info": {
   "codemirror_mode": {
    "name": "ipython",
    "version": 3
   },
   "file_extension": ".py",
   "mimetype": "text/x-python",
   "name": "python",
   "nbconvert_exporter": "python",
   "pygments_lexer": "ipython3",
   "version": "3.8.1"
  }
 },
 "nbformat": 4,
 "nbformat_minor": 2
}
